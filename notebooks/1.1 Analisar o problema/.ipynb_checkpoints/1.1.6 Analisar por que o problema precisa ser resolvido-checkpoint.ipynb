{
 "cells": [
  {
   "cell_type": "markdown",
   "metadata": {},
   "source": [
    "# Descrição"
   ]
  },
  {
   "cell_type": "markdown",
   "metadata": {},
   "source": [
    "Analisar por que o problema precisa ser resolvido."
   ]
  },
  {
   "cell_type": "markdown",
   "metadata": {},
   "source": [
    "# 1 Motivação"
   ]
  },
  {
   "cell_type": "markdown",
   "metadata": {},
   "source": [
    "Analisar qual a motivação para resolver o problema(duh é um problema né? mas, dentre a miríade de problemas existentes, por que esse?)"
   ]
  },
  {
   "cell_type": "markdown",
   "metadata": {},
   "source": [
    "Este trabalho tem como motivação analisar a adequação de ferramentas de Aprendizado de Máquina ao problema de evasão de discentes na UFC."
   ]
  },
  {
   "cell_type": "markdown",
   "metadata": {},
   "source": [
    "## 1.1 Consequências"
   ]
  },
  {
   "cell_type": "markdown",
   "metadata": {},
   "source": [
    "### Redução de desperdício financeiro"
   ]
  },
  {
   "cell_type": "markdown",
   "metadata": {},
   "source": [
    "[ref] <a href=\"../../Artigos/Evasão - educação/A evasão no ensino superior globalizado e suas repercussões na gestão universitária.pdf\">A evasão no ensino superior globalizado e suas repercussões na gestão universitária</a>  \n",
    "500kkk"
   ]
  },
  {
   "cell_type": "markdown",
   "metadata": {},
   "source": [
    "### Redução da ineficácia social das universidades"
   ]
  },
  {
   "cell_type": "markdown",
   "metadata": {},
   "source": [
    "### Redução dos abandonos efetivos causados por abandonos temporários"
   ]
  },
  {
   "cell_type": "markdown",
   "metadata": {},
   "source": [
    "## 1.2 Diretrizes"
   ]
  },
  {
   "cell_type": "markdown",
   "metadata": {},
   "source": [
    "### 1.2.1 Federal - REUNI"
   ]
  },
  {
   "cell_type": "markdown",
   "metadata": {},
   "source": [
    "[ref] <a href=\"../../Documentos/Decreto nº 6096.pdf\">Decreto nº 6.096, de 24 de abril de 2007 </a>"
   ]
  },
  {
   "cell_type": "markdown",
   "metadata": {},
   "source": [
    "### 1.2.2 UFC"
   ]
  },
  {
   "cell_type": "markdown",
   "metadata": {},
   "source": [
    "[ref] <a href=\"../../Documentos/pdi_ufc_2013-2017.pdf\">PDI 2013-2017</a>  \n",
    "[ref] <a href=\"../../Documentos/programa-henry-custodio.pdf\">Programa de gestão da chapa Henry e Custódio</a>"
   ]
  },
  {
   "cell_type": "markdown",
   "metadata": {},
   "source": [
    "# 2 Benefício"
   ]
  },
  {
   "cell_type": "markdown",
   "metadata": {},
   "source": [
    "Analisar quais os benefícios de ter o problema resolvido."
   ]
  },
  {
   "cell_type": "markdown",
   "metadata": {},
   "source": [
    "# 3 Uso"
   ]
  },
  {
   "cell_type": "markdown",
   "metadata": {},
   "source": [
    "Analisar como soluções para o problema poderão ser utilizadas. Pensar no ciclo de vida da solução completo, e não apenas na release de um produto."
   ]
  },
  {
   "cell_type": "markdown",
   "metadata": {},
   "source": [
    "A análise dos dados relativos ao contexto da UFC pode auxiliar o processo de identificação de causas de evasão de discentes e planejamento de soluções para esse problema.   \n",
    "Modelos de predição de evasão de discente podem ser utilizados na identificação precoce de discentes com alto risco de abandonarem seus cursos, para os quais ações poderão ser executadas a fim de evitar a ocorrência do problema.   \n",
    "Modelo de identificação de discente que foge do padrão desempenho no ENEM -> desempenho na UFC pode ser utilizado para a UFC identificar tais discentes e buscar analisar o que os levou a melhorar o desempenho, no caso de não ter sido eventual o baixo desempenho no ENEM; analisando tais casos, pode identificar causas e melhor planejar ações."
   ]
  },
  {
   "cell_type": "markdown",
   "metadata": {},
   "source": [
    "----"
   ]
  }
 ],
 "metadata": {
  "kernelspec": {
   "display_name": "Python 2",
   "language": "python",
   "name": "python2"
  },
  "language_info": {
   "codemirror_mode": {
    "name": "ipython",
    "version": 2
   },
   "file_extension": ".py",
   "mimetype": "text/x-python",
   "name": "python",
   "nbconvert_exporter": "python",
   "pygments_lexer": "ipython2",
   "version": "2.7.10"
  }
 },
 "nbformat": 4,
 "nbformat_minor": 0
}
