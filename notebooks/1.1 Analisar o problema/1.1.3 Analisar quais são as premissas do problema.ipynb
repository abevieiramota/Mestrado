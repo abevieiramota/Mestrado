{
 "cells": [
  {
   "cell_type": "markdown",
   "metadata": {},
   "source": [
    "# Descrição"
   ]
  },
  {
   "cell_type": "markdown",
   "metadata": {},
   "source": [
    "Lista de assunções sobre o problema.  \n",
    "Detectar aquelas que podem ser testadas com dados."
   ]
  },
  {
   "cell_type": "markdown",
   "metadata": {},
   "source": [
    "----"
   ]
  },
  {
   "cell_type": "markdown",
   "metadata": {},
   "source": [
    "# 1 Perfil do discente não é suficiente para explicar o fenômeno da evasão - instituição/contexto também é relevante"
   ]
  },
  {
   "cell_type": "markdown",
   "metadata": {},
   "source": [
    "## 1.1 Baseado em:  \n",
    "[ref] Completing College - loc. 161 \"But even among institutions...\""
   ]
  },
  {
   "cell_type": "markdown",
   "metadata": {},
   "source": [
    "## 1.2 Como validar:\n",
    "unir uma base de dados sobre discentes e uma sobre a instituição/contexto(universidade, faculdade, curso, turma etc) e verificar a explicabilidade das duas bases, com relação ao problema de evasão"
   ]
  },
  {
   "cell_type": "markdown",
   "metadata": {},
   "source": [
    "# 2 As informações disponíveis ao fim do primeiro semestre de um discente possuem explicabilidade suficiente para que, baseados nelas, sejam desenvolvidos modelos de predição úteis no combate ao problema"
   ]
  },
  {
   "cell_type": "markdown",
   "metadata": {},
   "source": [
    "## 2.1 Baseado em: \n",
    "quais estudos? [ref] Completing College #onde?"
   ]
  },
  {
   "cell_type": "markdown",
   "metadata": {},
   "source": [
    "## 2.2 Como validar:\n",
    "desenvolver modelos de predição utilizando informações disponíveis ao fim do primeiro semestre de discentes na UFC(2015.1) e verificar a acurácia deles, utilizando como função alvo a informação de se o discente conseguiu pelo menos uma aprovação em 2015.2"
   ]
  },
  {
   "cell_type": "markdown",
   "metadata": {},
   "source": [
    "# 3 O desempenho de um discente em uma área de conhecimento no ENEM é indício relevante para predizer seu desempenho em disciplinas dessa área ou de área similar"
   ]
  },
  {
   "cell_type": "markdown",
   "metadata": {},
   "source": [
    "## 3.1 Baseado em: \n",
    "intuição/senso comum"
   ]
  },
  {
   "cell_type": "markdown",
   "metadata": {},
   "source": [
    "## 3.2 Como validar:\n",
    "analisar os dados do ENEM(# até quando há disponível?) e dados de desempenho do discente na UFC"
   ]
  },
  {
   "cell_type": "markdown",
   "metadata": {},
   "source": [
    "# 4 Conhecer as causas da evasão não implica em conhecer as causas da persistência"
   ]
  },
  {
   "cell_type": "markdown",
   "metadata": {},
   "source": [
    "## 4.1 Baseado em:\n",
    "[ref] Completing College - loc. 181 \"The process of persistence...\""
   ]
  },
  {
   "cell_type": "markdown",
   "metadata": {},
   "source": [
    "## 4.2 Como validar:\n",
    "how?"
   ]
  },
  {
   "cell_type": "markdown",
   "metadata": {},
   "source": [
    "# 5 Os fatores relacionados ao contexto da sala de aula possuem maior relevância para os discentes que possuem outras responsabilidades além da universidade(indiretamente low-income, pois espera-se que tenham que trabalhar)"
   ]
  },
  {
   "cell_type": "markdown",
   "metadata": {},
   "source": [
    "## 5.1 Baseado em:\n",
    "[ref] Completing College - loc. 191 \"Lest we forget...\""
   ]
  },
  {
   "cell_type": "markdown",
   "metadata": {},
   "source": [
    "## 5.2 Como validar:\n",
    "analisar a explicabilidade dos fatores relacionados ao contexto da sala em discentes que possuam outras responsabilidades além da universidade x resto"
   ]
  },
  {
   "cell_type": "markdown",
   "metadata": {},
   "source": [
    "# 6 Como fatores que contribuem para a retenção de discentes, há dependências, entre as classes, dos fatores pertencente às quatro classes especificadas por Tinto"
   ]
  },
  {
   "cell_type": "markdown",
   "metadata": {},
   "source": [
    "## 6.1 Baseado em:\n",
    "[ref] Completing College - loc. 213 \"The absence of one undermine the efficacy of the others(...)\""
   ]
  },
  {
   "cell_type": "markdown",
   "metadata": {},
   "source": [
    "## 6.2 Como validar:\n",
    "analisar casos em que, para uma classe de atributos, os valores sejam negativos -> esperado é que a taxa de evasão seja alta"
   ]
  }
 ],
 "metadata": {
  "kernelspec": {
   "display_name": "Python 2",
   "language": "python",
   "name": "python2"
  },
  "language_info": {
   "codemirror_mode": {
    "name": "ipython",
    "version": 2
   },
   "file_extension": ".py",
   "mimetype": "text/x-python",
   "name": "python",
   "nbconvert_exporter": "python",
   "pygments_lexer": "ipython2",
   "version": "2.7.10"
  }
 },
 "nbformat": 4,
 "nbformat_minor": 0
}
