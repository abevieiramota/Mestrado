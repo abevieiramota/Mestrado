{
 "cells": [
  {
   "cell_type": "markdown",
   "metadata": {},
   "source": [
    "# Descrição"
   ]
  },
  {
   "cell_type": "markdown",
   "metadata": {},
   "source": [
    "Analisar se existem problemas cujo estudo possa de alguma forma contribuir para a solução do problema em questão.\n",
    "Problemas que são causas/consequências do problema em questão podem ajudar a entender o problema.\n",
    "Problemas cuja estrutura seja similar à do problema em questão podem ajudar a entender o problema e suas soluções podem ajudar a desenvolver uma solução para o problema em questão.\n",
    "\n",
    "problema em questão problema em questão[TODO] descrever melhor rs"
   ]
  },
  {
   "cell_type": "markdown",
   "metadata": {
    "collapsed": true
   },
   "source": [
    "----"
   ]
  },
  {
   "cell_type": "markdown",
   "metadata": {},
   "source": [
    " > lembrar que parte da teoria do vincent tinto se baseia em estudos sobre o suicídio"
   ]
  },
  {
   "cell_type": "code",
   "execution_count": null,
   "metadata": {
    "collapsed": true
   },
   "outputs": [],
   "source": []
  }
 ],
 "metadata": {
  "kernelspec": {
   "display_name": "Python 2",
   "language": "python",
   "name": "python2"
  },
  "language_info": {
   "codemirror_mode": {
    "name": "ipython",
    "version": 2
   },
   "file_extension": ".py",
   "mimetype": "text/x-python",
   "name": "python",
   "nbconvert_exporter": "python",
   "pygments_lexer": "ipython2",
   "version": "2.7.10"
  }
 },
 "nbformat": 4,
 "nbformat_minor": 0
}
