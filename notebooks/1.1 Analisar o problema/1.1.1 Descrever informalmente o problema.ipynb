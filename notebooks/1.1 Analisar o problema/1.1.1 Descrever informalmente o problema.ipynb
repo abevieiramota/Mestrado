{
 "cells": [
  {
   "cell_type": "markdown",
   "metadata": {},
   "source": [
    "# Descrição"
   ]
  },
  {
   "cell_type": "markdown",
   "metadata": {},
   "source": [
    "Descreva o problema informalmente. Esta descrição será a base a partir da qual o conhecimento sobre o problema será desenvolvido.  \n",
    "Aqui se pode identificar **assunções, expectativas, perspectivas, hipóteses**.\n",
    " \n",
    "Cada envolvido no projeto tem uma visão sobre o problema.  \n",
    "É interessante que ela seja discutida e um consenso seja alcançado."
   ]
  },
  {
   "cell_type": "markdown",
   "metadata": {},
   "source": [
    "# Saídas"
   ]
  },
  {
   "cell_type": "markdown",
   "metadata": {},
   "source": [
    "1. **Descrição informal**\n",
    "  1. O que é o problema?\n",
    "  2. Por que deve ser resolvido?\n",
    "    1. Motivação\n",
    "    2. Benefícios\n",
    "    3. Uso\n",
    "  3. Como você resolveria?\n",
    "2. **Glossário**\n",
    "3. **Referências**\n",
    "  1. Nome\n",
    "  2. Tipo\n",
    "  3. Resumo\n",
    "  4. Fonte"
   ]
  },
  {
   "cell_type": "markdown",
   "metadata": {},
   "source": [
    "----"
   ]
  },
  {
   "cell_type": "markdown",
   "metadata": {},
   "source": [
    "# 1 Descrição Informal"
   ]
  },
  {
   "cell_type": "code",
   "execution_count": null,
   "metadata": {
    "collapsed": true
   },
   "outputs": [],
   "source": []
  },
  {
   "cell_type": "markdown",
   "metadata": {},
   "source": [
    "## 1.1 O que é o problema?"
   ]
  },
  {
   "cell_type": "markdown",
   "metadata": {
    "collapsed": true
   },
   "source": [
    "Evasão de discente consiste na saída precoce de um discente de um processo de aprendizado. O abandono, por um universitário(discente de ensino superior), de sua graduação é um exemplo mais concreto de evasão de discente, na medida em que tomemos como finalidade do processo a conclusão da graduação abandonada; diferentemente, caso consideremos como finalidade a conclusão de qualquer graduação, é necessário analisarmos se o abandono não foi causado por, por exemplo, uma transferência de curso, não configurando, portanto, evasão. O processo de aprendizado pode ser analisado considerando diversas finalidades: conclusão do curso no qual primeiro o discente ingressou; conclusão de um curso na instituição na qual primeiro o discente ingressou; conclusão de um curso na área da graduação na qual primeiro ingressou; ou simplesmente conclusão de um curso, independente de instituição ou área.\n",
    "\n",
    "[TODO] analisar as definições da literatura, em especial do [ref] Leaving College"
   ]
  },
  {
   "cell_type": "markdown",
   "metadata": {},
   "source": [
    "## 1.2 Por que deve ser resolvido?"
   ]
  },
  {
   "cell_type": "code",
   "execution_count": null,
   "metadata": {
    "collapsed": true
   },
   "outputs": [],
   "source": []
  },
  {
   "cell_type": "markdown",
   "metadata": {},
   "source": [
    "### 1.2.1 Motivação"
   ]
  },
  {
   "cell_type": "code",
   "execution_count": null,
   "metadata": {
    "collapsed": true
   },
   "outputs": [],
   "source": []
  },
  {
   "cell_type": "markdown",
   "metadata": {},
   "source": [
    "### 1.2.2 Benefícios"
   ]
  },
  {
   "cell_type": "code",
   "execution_count": null,
   "metadata": {
    "collapsed": true
   },
   "outputs": [],
   "source": []
  },
  {
   "cell_type": "markdown",
   "metadata": {},
   "source": [
    "### 1.2.3 Uso"
   ]
  },
  {
   "cell_type": "code",
   "execution_count": null,
   "metadata": {
    "collapsed": true
   },
   "outputs": [],
   "source": []
  },
  {
   "cell_type": "markdown",
   "metadata": {},
   "source": [
    "## 1.3 Como você resolveria?"
   ]
  },
  {
   "cell_type": "markdown",
   "metadata": {
    "collapsed": true
   },
   "source": [
    "[ref] <a href=\"http://www.amazon.com/Completing-College-Rethinking-Institutional-Action-ebook/dp/B007HA3C6U\">Rethinking College  </a>  \n",
    "literatura sobre evasão + machine learning"
   ]
  },
  {
   "cell_type": "markdown",
   "metadata": {},
   "source": [
    "# 2 Glossário"
   ]
  },
  {
   "cell_type": "markdown",
   "metadata": {
    "collapsed": true
   },
   "source": [
    "Coorte: [TODO]  \n",
    "Universidade: [TODO]  \n",
    "Faculdade: [TODO]  "
   ]
  },
  {
   "cell_type": "markdown",
   "metadata": {},
   "source": [
    "# 3 Referências"
   ]
  },
  {
   "cell_type": "markdown",
   "metadata": {
    "collapsed": true
   },
   "source": [
    "Nome: Leaving College: rethinking the causes and cures of student attrition - Vincent Tinto  \n",
    "Tipo: Livro  \n",
    "Resumo: [TODO]  \n",
    "Fonte: comprado físico no amazon.com"
   ]
  },
  {
   "cell_type": "markdown",
   "metadata": {},
   "source": [
    " "
   ]
  },
  {
   "cell_type": "markdown",
   "metadata": {},
   "source": [
    "Nome: Rethinking College - Vincent Tinto  \n",
    "Tipo: Livro  \n",
    "Resumo: [TODO]  \n",
    "Fonte: comprado digital no amazon.com"
   ]
  }
 ],
 "metadata": {
  "kernelspec": {
   "display_name": "Python 2",
   "language": "python",
   "name": "python2"
  },
  "language_info": {
   "codemirror_mode": {
    "name": "ipython",
    "version": 2
   },
   "file_extension": ".py",
   "mimetype": "text/x-python",
   "name": "python",
   "nbconvert_exporter": "python",
   "pygments_lexer": "ipython2",
   "version": "2.7.10"
  }
 },
 "nbformat": 4,
 "nbformat_minor": 0
}
