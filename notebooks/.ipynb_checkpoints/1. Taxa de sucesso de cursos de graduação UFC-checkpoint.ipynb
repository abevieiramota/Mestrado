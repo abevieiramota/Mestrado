{
 "cells": [
  {
   "cell_type": "code",
   "execution_count": 9,
   "metadata": {
    "collapsed": false
   },
   "outputs": [],
   "source": [
    "import pandas as pd\n",
    "# necessário pois o default está ascii, dando problema de encoding com arquivos utf-8\n",
    "import sys\n",
    "reload(sys)\n",
    "sys.setdefaultencoding('utf-8')"
   ]
  },
  {
   "cell_type": "code",
   "execution_count": 10,
   "metadata": {
    "collapsed": false
   },
   "outputs": [],
   "source": [
    "ts = pd.read_csv('../Dados/taxa-de-sucesso-ufc.csv', encoding='utf-8', decimal=',')"
   ]
  },
  {
   "cell_type": "code",
   "execution_count": 11,
   "metadata": {
    "collapsed": false
   },
   "outputs": [
    {
     "data": {
      "text/html": [
       "<div style=\"max-height:1000px;max-width:1500px;overflow:auto;\">\n",
       "<table border=\"1\" class=\"dataframe\">\n",
       "  <thead>\n",
       "    <tr style=\"text-align: right;\">\n",
       "      <th></th>\n",
       "      <th>Curso</th>\n",
       "      <th>Período</th>\n",
       "      <th>TS 2013</th>\n",
       "    </tr>\n",
       "  </thead>\n",
       "  <tbody>\n",
       "    <tr>\n",
       "      <th>80</th>\n",
       "      <td>  Ciências Sociais - Licenciatura</td>\n",
       "      <td> Noturno</td>\n",
       "      <td>  6.8%</td>\n",
       "    </tr>\n",
       "    <tr>\n",
       "      <th>79</th>\n",
       "      <td>  Redes de Computadores - Quixadá</td>\n",
       "      <td> Noturno</td>\n",
       "      <td> 13.3%</td>\n",
       "    </tr>\n",
       "    <tr>\n",
       "      <th>78</th>\n",
       "      <td>          Geografia - Bacharelado</td>\n",
       "      <td>  Diurno</td>\n",
       "      <td> 15.3%</td>\n",
       "    </tr>\n",
       "    <tr>\n",
       "      <th>77</th>\n",
       "      <td>        Letras - Português-Alemão</td>\n",
       "      <td>  Diurno</td>\n",
       "      <td> 17.6%</td>\n",
       "    </tr>\n",
       "    <tr>\n",
       "      <th>76</th>\n",
       "      <td>           Engenharia Metalúrgica</td>\n",
       "      <td>  Diurno</td>\n",
       "      <td> 18.3%</td>\n",
       "    </tr>\n",
       "    <tr>\n",
       "      <th>75</th>\n",
       "      <td>     Ciências Econômicas - Sobral</td>\n",
       "      <td> Noturno</td>\n",
       "      <td> 20.9%</td>\n",
       "    </tr>\n",
       "    <tr>\n",
       "      <th>74</th>\n",
       "      <td> Sistemas de Informação - Quixadá</td>\n",
       "      <td>  Diurno</td>\n",
       "      <td> 22.0%</td>\n",
       "    </tr>\n",
       "    <tr>\n",
       "      <th>73</th>\n",
       "      <td>          Filosofia - Bacharelado</td>\n",
       "      <td> Noturno</td>\n",
       "      <td> 24.3%</td>\n",
       "    </tr>\n",
       "    <tr>\n",
       "      <th>72</th>\n",
       "      <td>         Matemática - Bacharelado</td>\n",
       "      <td>  Diurno</td>\n",
       "      <td> 24.4%</td>\n",
       "    </tr>\n",
       "    <tr>\n",
       "      <th>71</th>\n",
       "      <td>     Engenharia Elétrica - Sobral</td>\n",
       "      <td>  Diurno</td>\n",
       "      <td> 25.0%</td>\n",
       "    </tr>\n",
       "  </tbody>\n",
       "</table>\n",
       "</div>"
      ],
      "text/plain": [
       "                               Curso  Período TS 2013\n",
       "80   Ciências Sociais - Licenciatura  Noturno    6.8%\n",
       "79   Redes de Computadores - Quixadá  Noturno   13.3%\n",
       "78           Geografia - Bacharelado   Diurno   15.3%\n",
       "77         Letras - Português-Alemão   Diurno   17.6%\n",
       "76            Engenharia Metalúrgica   Diurno   18.3%\n",
       "75      Ciências Econômicas - Sobral  Noturno   20.9%\n",
       "74  Sistemas de Informação - Quixadá   Diurno   22.0%\n",
       "73           Filosofia - Bacharelado  Noturno   24.3%\n",
       "72          Matemática - Bacharelado   Diurno   24.4%\n",
       "71      Engenharia Elétrica - Sobral   Diurno   25.0%"
      ]
     },
     "execution_count": 11,
     "metadata": {},
     "output_type": "execute_result"
    }
   ],
   "source": [
    "ts_2013_simplificado = ts.sort('TS 2013')[['Curso', u'Período', 'TS 2013']][:10]\n",
    "ts_2013_simplificado['TS 2013'] = ts_2013_simplificado['TS 2013'].map('{}%'.format)\n",
    "ts_2013_simplificado"
   ]
  },
  {
   "cell_type": "code",
   "execution_count": 14,
   "metadata": {
    "collapsed": false
   },
   "outputs": [],
   "source": [
    "with open('ts_2013_simplificado.tex', 'w') as f:\n",
    "    f.write(ts_2013_simplificado.to_latex())"
   ]
  },
  {
   "cell_type": "code",
   "execution_count": null,
   "metadata": {
    "collapsed": true
   },
   "outputs": [],
   "source": []
  }
 ],
 "metadata": {
  "kernelspec": {
   "display_name": "Python 2",
   "language": "python",
   "name": "python2"
  },
  "language_info": {
   "codemirror_mode": {
    "name": "ipython",
    "version": 2
   },
   "file_extension": ".py",
   "mimetype": "text/x-python",
   "name": "python",
   "nbconvert_exporter": "python",
   "pygments_lexer": "ipython2",
   "version": "2.7.9"
  }
 },
 "nbformat": 4,
 "nbformat_minor": 0
}
