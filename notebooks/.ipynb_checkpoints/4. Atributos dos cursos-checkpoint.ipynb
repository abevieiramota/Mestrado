{
 "cells": [
  {
   "cell_type": "code",
   "execution_count": 1,
   "metadata": {
    "collapsed": true
   },
   "outputs": [],
   "source": [
    "import pandas as pd"
   ]
  },
  {
   "cell_type": "markdown",
   "metadata": {},
   "source": [
    "# Concorrência em 2013"
   ]
  },
  {
   "cell_type": "code",
   "execution_count": 25,
   "metadata": {
    "collapsed": false
   },
   "outputs": [],
   "source": [
    "ccr = pd.read_csv('../Dados/concorrencia-sisu-2013-ufc.csv', encoding='utf-8')"
   ]
  },
  {
   "cell_type": "code",
   "execution_count": 26,
   "metadata": {
    "collapsed": false
   },
   "outputs": [
    {
     "data": {
      "text/html": [
       "<div>\n",
       "<table border=\"1\" class=\"dataframe\">\n",
       "  <thead>\n",
       "    <tr style=\"text-align: right;\">\n",
       "      <th></th>\n",
       "      <th>CÓDIGO UFC</th>\n",
       "      <th>CÓDIGO INEP</th>\n",
       "      <th>UNIDADE ACADÊMICA/CURSO</th>\n",
       "      <th>GRAU</th>\n",
       "      <th>TURNO</th>\n",
       "      <th>Candidatos</th>\n",
       "      <th>Candidatos/Vaga</th>\n",
       "    </tr>\n",
       "  </thead>\n",
       "  <tbody>\n",
       "    <tr>\n",
       "      <th>0</th>\n",
       "      <td>70</td>\n",
       "      <td>150114</td>\n",
       "      <td>Biotecnologia</td>\n",
       "      <td>Bach.</td>\n",
       "      <td>Integral</td>\n",
       "      <td>700</td>\n",
       "      <td>14.00</td>\n",
       "    </tr>\n",
       "    <tr>\n",
       "      <th>1</th>\n",
       "      <td>07A</td>\n",
       "      <td>313974</td>\n",
       "      <td>Ciências Biológicas</td>\n",
       "      <td>Bach.</td>\n",
       "      <td>Integral</td>\n",
       "      <td>1068</td>\n",
       "      <td>26.70</td>\n",
       "    </tr>\n",
       "    <tr>\n",
       "      <th>2</th>\n",
       "      <td>07B</td>\n",
       "      <td>13974</td>\n",
       "      <td>Ciências Biológicas - Licenciatura</td>\n",
       "      <td>Lic.</td>\n",
       "      <td>Integral</td>\n",
       "      <td>762</td>\n",
       "      <td>19.05</td>\n",
       "    </tr>\n",
       "    <tr>\n",
       "      <th>3</th>\n",
       "      <td>65</td>\n",
       "      <td>13980</td>\n",
       "      <td>Computação</td>\n",
       "      <td>Bach.</td>\n",
       "      <td>Integral</td>\n",
       "      <td>2062</td>\n",
       "      <td>34.37</td>\n",
       "    </tr>\n",
       "    <tr>\n",
       "      <th>4</th>\n",
       "      <td>28</td>\n",
       "      <td>13971</td>\n",
       "      <td>Estatística</td>\n",
       "      <td>Bach.</td>\n",
       "      <td>Integral</td>\n",
       "      <td>1389</td>\n",
       "      <td>23.15</td>\n",
       "    </tr>\n",
       "  </tbody>\n",
       "</table>\n",
       "</div>"
      ],
      "text/plain": [
       "  CÓDIGO UFC  CÓDIGO INEP             UNIDADE ACADÊMICA/CURSO   GRAU  \\\n",
       "0         70       150114                       Biotecnologia  Bach.   \n",
       "1        07A       313974                 Ciências Biológicas  Bach.   \n",
       "2        07B        13974  Ciências Biológicas - Licenciatura   Lic.   \n",
       "3         65        13980                          Computação  Bach.   \n",
       "4         28        13971                         Estatística  Bach.   \n",
       "\n",
       "      TURNO  Candidatos  Candidatos/Vaga  \n",
       "0  Integral         700            14.00  \n",
       "1  Integral        1068            26.70  \n",
       "2  Integral         762            19.05  \n",
       "3  Integral        2062            34.37  \n",
       "4  Integral        1389            23.15  "
      ]
     },
     "execution_count": 26,
     "metadata": {},
     "output_type": "execute_result"
    }
   ],
   "source": [
    "ccr.head()"
   ]
  },
  {
   "cell_type": "markdown",
   "metadata": {},
   "source": [
    "# Taxa de sucesso"
   ]
  },
  {
   "cell_type": "code",
   "execution_count": 21,
   "metadata": {
    "collapsed": true
   },
   "outputs": [],
   "source": [
    "ts = pd.read_csv('../Dados/taxa-de-sucesso-por-curso-ufc-detalhado.csv', na_values='-', encoding='utf-8')"
   ]
  },
  {
   "cell_type": "code",
   "execution_count": 22,
   "metadata": {
    "collapsed": false
   },
   "outputs": [
    {
     "data": {
      "text/plain": [
       "Index([             u'CÓDIGO UFC',             u'CÓDIGO INEP',\n",
       "       u'UNIDADE ACADÊMICA/CURSO',                    u'GRAU',\n",
       "                         u'TURNO',              u'Candidatos',\n",
       "               u'Candidatos/Vaga'],\n",
       "      dtype='object')"
      ]
     },
     "execution_count": 22,
     "metadata": {},
     "output_type": "execute_result"
    }
   ],
   "source": [
    "df.columns"
   ]
  },
  {
   "cell_type": "code",
   "execution_count": 23,
   "metadata": {
    "collapsed": false
   },
   "outputs": [
    {
     "data": {
      "text/plain": [
       "Index([  u'UNIDADE ACADEMICA', u'CÓDIGO DO CURSO UFC',                u'OCDE',\n",
       "                      u'INEP',               u'CURSO',             u'PERÍODO',\n",
       "                      u'2007',                u'2008',                u'2009',\n",
       "                      u'2010',                u'2011',                u'2012',\n",
       "                      u'2013'],\n",
       "      dtype='object')"
      ]
     },
     "execution_count": 23,
     "metadata": {},
     "output_type": "execute_result"
    }
   ],
   "source": [
    "ts.columns"
   ]
  },
  {
   "cell_type": "markdown",
   "metadata": {},
   "source": [
    "# Join"
   ]
  },
  {
   "cell_type": "code",
   "execution_count": 24,
   "metadata": {
    "collapsed": true
   },
   "outputs": [],
   "source": [
    "ts_2013 = ts[[u'CÓDIGO DO CURSO UFC', '2013']]"
   ]
  },
  {
   "cell_type": "code",
   "execution_count": 27,
   "metadata": {
    "collapsed": true
   },
   "outputs": [],
   "source": [
    "df = pd.merge(ccr, ts_2013, left_on=u'CÓDIGO UFC', right_on=u'CÓDIGO DO CURSO UFC')"
   ]
  },
  {
   "cell_type": "code",
   "execution_count": 29,
   "metadata": {
    "collapsed": false
   },
   "outputs": [
    {
     "data": {
      "text/html": [
       "<div>\n",
       "<table border=\"1\" class=\"dataframe\">\n",
       "  <thead>\n",
       "    <tr style=\"text-align: right;\">\n",
       "      <th></th>\n",
       "      <th>CÓDIGO UFC</th>\n",
       "      <th>CÓDIGO INEP</th>\n",
       "      <th>UNIDADE ACADÊMICA/CURSO</th>\n",
       "      <th>GRAU</th>\n",
       "      <th>TURNO</th>\n",
       "      <th>Candidatos</th>\n",
       "      <th>Candidatos/Vaga</th>\n",
       "      <th>CÓDIGO DO CURSO UFC</th>\n",
       "      <th>2013</th>\n",
       "    </tr>\n",
       "  </thead>\n",
       "  <tbody>\n",
       "    <tr>\n",
       "      <th>0</th>\n",
       "      <td>65</td>\n",
       "      <td>13980</td>\n",
       "      <td>Computação</td>\n",
       "      <td>Bach.</td>\n",
       "      <td>Integral</td>\n",
       "      <td>2062</td>\n",
       "      <td>34.37</td>\n",
       "      <td>65</td>\n",
       "      <td>53.2</td>\n",
       "    </tr>\n",
       "    <tr>\n",
       "      <th>1</th>\n",
       "      <td>28</td>\n",
       "      <td>13971</td>\n",
       "      <td>Estatística</td>\n",
       "      <td>Bach.</td>\n",
       "      <td>Integral</td>\n",
       "      <td>1389</td>\n",
       "      <td>23.15</td>\n",
       "      <td>28</td>\n",
       "      <td>25.0</td>\n",
       "    </tr>\n",
       "    <tr>\n",
       "      <th>2</th>\n",
       "      <td>47</td>\n",
       "      <td>13972</td>\n",
       "      <td>Física – Bacharelado</td>\n",
       "      <td>Bach.</td>\n",
       "      <td>Integral</td>\n",
       "      <td>454</td>\n",
       "      <td>11.35</td>\n",
       "      <td>47</td>\n",
       "      <td>25.0</td>\n",
       "    </tr>\n",
       "    <tr>\n",
       "      <th>3</th>\n",
       "      <td>31</td>\n",
       "      <td>38239</td>\n",
       "      <td>Física – Licenciatura</td>\n",
       "      <td>Lic.</td>\n",
       "      <td>Noturno</td>\n",
       "      <td>938</td>\n",
       "      <td>18.76</td>\n",
       "      <td>31</td>\n",
       "      <td>31.3</td>\n",
       "    </tr>\n",
       "    <tr>\n",
       "      <th>4</th>\n",
       "      <td>34</td>\n",
       "      <td>13975</td>\n",
       "      <td>Geologia</td>\n",
       "      <td>Bach.</td>\n",
       "      <td>Integral</td>\n",
       "      <td>721</td>\n",
       "      <td>18.02</td>\n",
       "      <td>34</td>\n",
       "      <td>35.0</td>\n",
       "    </tr>\n",
       "  </tbody>\n",
       "</table>\n",
       "</div>"
      ],
      "text/plain": [
       "  CÓDIGO UFC  CÓDIGO INEP UNIDADE ACADÊMICA/CURSO   GRAU     TURNO  \\\n",
       "0         65        13980              Computação  Bach.  Integral   \n",
       "1         28        13971             Estatística  Bach.  Integral   \n",
       "2         47        13972    Física – Bacharelado  Bach.  Integral   \n",
       "3         31        38239   Física – Licenciatura   Lic.   Noturno   \n",
       "4         34        13975                Geologia  Bach.  Integral   \n",
       "\n",
       "   Candidatos  Candidatos/Vaga CÓDIGO DO CURSO UFC  2013  \n",
       "0        2062            34.37                  65  53.2  \n",
       "1        1389            23.15                  28  25.0  \n",
       "2         454            11.35                  47  25.0  \n",
       "3         938            18.76                  31  31.3  \n",
       "4         721            18.02                  34  35.0  "
      ]
     },
     "execution_count": 29,
     "metadata": {},
     "output_type": "execute_result"
    }
   ],
   "source": [
    "df.head()"
   ]
  },
  {
   "cell_type": "code",
   "execution_count": 30,
   "metadata": {
    "collapsed": false
   },
   "outputs": [
    {
     "data": {
      "text/html": [
       "<div>\n",
       "<table border=\"1\" class=\"dataframe\">\n",
       "  <thead>\n",
       "    <tr style=\"text-align: right;\">\n",
       "      <th></th>\n",
       "      <th>CÓDIGO INEP</th>\n",
       "      <th>Candidatos</th>\n",
       "      <th>Candidatos/Vaga</th>\n",
       "      <th>2013</th>\n",
       "    </tr>\n",
       "  </thead>\n",
       "  <tbody>\n",
       "    <tr>\n",
       "      <th>CÓDIGO INEP</th>\n",
       "      <td>1.000000</td>\n",
       "      <td>-0.160527</td>\n",
       "      <td>0.014200</td>\n",
       "      <td>-0.230636</td>\n",
       "    </tr>\n",
       "    <tr>\n",
       "      <th>Candidatos</th>\n",
       "      <td>-0.160527</td>\n",
       "      <td>1.000000</td>\n",
       "      <td>0.793187</td>\n",
       "      <td>0.466764</td>\n",
       "    </tr>\n",
       "    <tr>\n",
       "      <th>Candidatos/Vaga</th>\n",
       "      <td>0.014200</td>\n",
       "      <td>0.793187</td>\n",
       "      <td>1.000000</td>\n",
       "      <td>0.535951</td>\n",
       "    </tr>\n",
       "    <tr>\n",
       "      <th>2013</th>\n",
       "      <td>-0.230636</td>\n",
       "      <td>0.466764</td>\n",
       "      <td>0.535951</td>\n",
       "      <td>1.000000</td>\n",
       "    </tr>\n",
       "  </tbody>\n",
       "</table>\n",
       "</div>"
      ],
      "text/plain": [
       "                 CÓDIGO INEP  Candidatos  Candidatos/Vaga      2013\n",
       "CÓDIGO INEP         1.000000   -0.160527         0.014200 -0.230636\n",
       "Candidatos         -0.160527    1.000000         0.793187  0.466764\n",
       "Candidatos/Vaga     0.014200    0.793187         1.000000  0.535951\n",
       "2013               -0.230636    0.466764         0.535951  1.000000"
      ]
     },
     "execution_count": 30,
     "metadata": {},
     "output_type": "execute_result"
    }
   ],
   "source": [
    "df.corr()"
   ]
  },
  {
   "cell_type": "code",
   "execution_count": null,
   "metadata": {
    "collapsed": true
   },
   "outputs": [],
   "source": []
  }
 ],
 "metadata": {
  "kernelspec": {
   "display_name": "Python 2",
   "language": "python",
   "name": "python2"
  },
  "language_info": {
   "codemirror_mode": {
    "name": "ipython",
    "version": 2
   },
   "file_extension": ".py",
   "mimetype": "text/x-python",
   "name": "python",
   "nbconvert_exporter": "python",
   "pygments_lexer": "ipython2",
   "version": "2.7.10"
  }
 },
 "nbformat": 4,
 "nbformat_minor": 0
}
