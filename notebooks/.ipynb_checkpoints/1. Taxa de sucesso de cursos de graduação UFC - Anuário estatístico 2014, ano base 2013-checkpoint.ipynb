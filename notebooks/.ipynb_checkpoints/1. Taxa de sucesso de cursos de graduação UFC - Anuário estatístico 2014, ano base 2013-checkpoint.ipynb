{
 "cells": [
  {
   "cell_type": "code",
   "execution_count": 24,
   "metadata": {
    "collapsed": false
   },
   "outputs": [],
   "source": [
    "import pandas as pd\n",
    "import numpy as np\n",
    "import codecs\n",
    "%matplotlib inline"
   ]
  },
  {
   "cell_type": "markdown",
   "metadata": {},
   "source": [
    "# Taxa de sucesso"
   ]
  },
  {
   "cell_type": "markdown",
   "metadata": {},
   "source": [
    "### Fórmula"
   ]
  },
  {
   "cell_type": "markdown",
   "metadata": {},
   "source": [
    "definido em **Documentos/Manual-Indicadores-TCU.pdf**, página 5"
   ]
  },
  {
   "cell_type": "markdown",
   "metadata": {},
   "source": [
    "<img src=\"formula_taxa_de_sucesso_TCU.png\" />"
   ]
  },
  {
   "cell_type": "markdown",
   "metadata": {},
   "source": [
    "### Observações sobre a fórmula"
   ]
  },
  {
   "cell_type": "markdown",
   "metadata": {},
   "source": [
    "**Documentos/Manual-Indicadores-TCU.pdf**, página 12"
   ]
  },
  {
   "cell_type": "markdown",
   "metadata": {},
   "source": [
    "<img src=\"observacoes_taxa_de_sucesso_TCU.png\" />"
   ]
  },
  {
   "cell_type": "markdown",
   "metadata": {},
   "source": [
    "# Dataset"
   ]
  },
  {
   "cell_type": "code",
   "execution_count": 4,
   "metadata": {
    "collapsed": true
   },
   "outputs": [],
   "source": [
    "dataset_path = '../Dados/taxa-de-sucesso-por-curso-ufc.csv'"
   ]
  },
  {
   "cell_type": "markdown",
   "metadata": {},
   "source": [
    "## Dataset.readme"
   ]
  },
  {
   "cell_type": "markdown",
   "metadata": {},
   "source": [
    "<a href=\"../Dados/taxa-de-sucesso-por-curso-ufc.csv.readme\" >README</a>"
   ]
  },
  {
   "cell_type": "markdown",
   "metadata": {},
   "source": [
    "## Analisando o dataset"
   ]
  },
  {
   "cell_type": "code",
   "execution_count": 5,
   "metadata": {
    "collapsed": false
   },
   "outputs": [],
   "source": [
    "df = pd.read_csv('../Dados/taxa-de-sucesso-por-curso-ufc.csv', encoding='utf-8', decimal=',', na_values='-')"
   ]
  },
  {
   "cell_type": "code",
   "execution_count": 6,
   "metadata": {
    "collapsed": false
   },
   "outputs": [
    {
     "data": {
      "text/html": [
       "<div>\n",
       "<table border=\"1\" class=\"dataframe\">\n",
       "  <thead>\n",
       "    <tr style=\"text-align: right;\">\n",
       "      <th></th>\n",
       "      <th>Código UFC</th>\n",
       "      <th>Código INEP</th>\n",
       "      <th>Curso</th>\n",
       "      <th>Período</th>\n",
       "      <th>Ranking 2013</th>\n",
       "      <th>Ranking 2012</th>\n",
       "      <th>Ranking 2011</th>\n",
       "      <th>TS 2013</th>\n",
       "      <th>TS 2012</th>\n",
       "      <th>TS 2011</th>\n",
       "    </tr>\n",
       "  </thead>\n",
       "  <tbody>\n",
       "    <tr>\n",
       "      <th>0</th>\n",
       "      <td>57</td>\n",
       "      <td>37274</td>\n",
       "      <td>Filosofia - Licenciatura</td>\n",
       "      <td>Noturno</td>\n",
       "      <td>1</td>\n",
       "      <td>45</td>\n",
       "      <td>57</td>\n",
       "      <td>223.1</td>\n",
       "      <td>43.8</td>\n",
       "      <td>34.6</td>\n",
       "    </tr>\n",
       "    <tr>\n",
       "      <th>1</th>\n",
       "      <td>35</td>\n",
       "      <td>13976</td>\n",
       "      <td>Geografia - Licenciatura</td>\n",
       "      <td>Diurno</td>\n",
       "      <td>2</td>\n",
       "      <td>6</td>\n",
       "      <td>8</td>\n",
       "      <td>219.0</td>\n",
       "      <td>100.0</td>\n",
       "      <td>101.6</td>\n",
       "    </tr>\n",
       "  </tbody>\n",
       "</table>\n",
       "</div>"
      ],
      "text/plain": [
       "  Código UFC Código INEP                     Curso  Período  Ranking 2013  \\\n",
       "0         57       37274  Filosofia - Licenciatura  Noturno             1   \n",
       "1         35       13976  Geografia - Licenciatura   Diurno             2   \n",
       "\n",
       "   Ranking 2012  Ranking 2011  TS 2013  TS 2012  TS 2011  \n",
       "0            45            57    223.1     43.8     34.6  \n",
       "1             6             8    219.0    100.0    101.6  "
      ]
     },
     "execution_count": 6,
     "metadata": {},
     "output_type": "execute_result"
    }
   ],
   "source": [
    "df.head(2)"
   ]
  },
  {
   "cell_type": "code",
   "execution_count": 7,
   "metadata": {
    "collapsed": false
   },
   "outputs": [
    {
     "data": {
      "text/plain": [
       "(81, 10)"
      ]
     },
     "execution_count": 7,
     "metadata": {},
     "output_type": "execute_result"
    }
   ],
   "source": [
    "df.shape"
   ]
  },
  {
   "cell_type": "code",
   "execution_count": 8,
   "metadata": {
    "collapsed": false
   },
   "outputs": [
    {
     "data": {
      "text/plain": [
       "Index([  u'Código UFC',  u'Código INEP',        u'Curso',      u'Período',\n",
       "       u'Ranking 2013', u'Ranking 2012', u'Ranking 2011',      u'TS 2013',\n",
       "            u'TS 2012',      u'TS 2011'],\n",
       "      dtype='object')"
      ]
     },
     "execution_count": 8,
     "metadata": {},
     "output_type": "execute_result"
    }
   ],
   "source": [
    "df.columns"
   ]
  },
  {
   "cell_type": "code",
   "execution_count": 9,
   "metadata": {
    "collapsed": false
   },
   "outputs": [
    {
     "data": {
      "text/plain": [
       "<matplotlib.axes._subplots.AxesSubplot at 0xbc61f28>"
      ]
     },
     "execution_count": 9,
     "metadata": {},
     "output_type": "execute_result"
    },
    {
     "data": {
      "image/png": "[encoded data removed]",
      "text/plain": [
       "<matplotlib.figure.Figure at 0x2dbd748>"
      ]
     },
     "metadata": {},
     "output_type": "display_data"
    }
   ],
   "source": [
    "df[u'Período'].value_counts().plot(kind='bar', rot=0)"
   ]
  },
  {
   "cell_type": "markdown",
   "metadata": {},
   "source": [
    "## Analisando a variação no rank"
   ]
  },
  {
   "cell_type": "markdown",
   "metadata": {},
   "source": [
    "### para 10 exemplos de curso"
   ]
  },
  {
   "cell_type": "code",
   "execution_count": 10,
   "metadata": {
    "collapsed": false
   },
   "outputs": [
    {
     "data": {
      "text/plain": [
       "<matplotlib.axes._subplots.AxesSubplot at 0xbdafef0>"
      ]
     },
     "execution_count": 10,
     "metadata": {},
     "output_type": "execute_result"
    },
    {
     "data": {
      "image/png": "[encoded data removed]",
      "text/plain": [
       "<matplotlib.figure.Figure at 0x3a65c88>"
      ]
     },
     "metadata": {},
     "output_type": "display_data"
    }
   ],
   "source": [
    "df[:10][['Ranking 2011', 'Ranking 2012', 'Ranking 2013', 'Curso']].set_index('Curso').T.plot(figsize=(10, 10))"
   ]
  },
  {
   "cell_type": "markdown",
   "metadata": {},
   "source": [
    "## Taxas de sucesso acima de 100%"
   ]
  },
  {
   "cell_type": "markdown",
   "metadata": {},
   "source": [
    "### registros com taxa de sucesso de pelo menos um ano acima de 100%"
   ]
  },
  {
   "cell_type": "code",
   "execution_count": 11,
   "metadata": {
    "collapsed": false
   },
   "outputs": [
    {
     "data": {
      "text/html": [
       "<div>\n",
       "<table border=\"1\" class=\"dataframe\">\n",
       "  <thead>\n",
       "    <tr style=\"text-align: right;\">\n",
       "      <th></th>\n",
       "      <th>Código UFC</th>\n",
       "      <th>Código INEP</th>\n",
       "      <th>Curso</th>\n",
       "      <th>Período</th>\n",
       "      <th>Ranking 2013</th>\n",
       "      <th>Ranking 2012</th>\n",
       "      <th>Ranking 2011</th>\n",
       "      <th>TS 2013</th>\n",
       "      <th>TS 2012</th>\n",
       "      <th>TS 2011</th>\n",
       "    </tr>\n",
       "  </thead>\n",
       "  <tbody>\n",
       "    <tr>\n",
       "      <th>0</th>\n",
       "      <td>57</td>\n",
       "      <td>37274</td>\n",
       "      <td>Filosofia - Licenciatura</td>\n",
       "      <td>Noturno</td>\n",
       "      <td>1</td>\n",
       "      <td>45</td>\n",
       "      <td>57</td>\n",
       "      <td>223.1</td>\n",
       "      <td>43.8</td>\n",
       "      <td>34.6</td>\n",
       "    </tr>\n",
       "    <tr>\n",
       "      <th>1</th>\n",
       "      <td>35</td>\n",
       "      <td>13976</td>\n",
       "      <td>Geografia - Licenciatura</td>\n",
       "      <td>Diurno</td>\n",
       "      <td>2</td>\n",
       "      <td>6</td>\n",
       "      <td>8</td>\n",
       "      <td>219.0</td>\n",
       "      <td>100.0</td>\n",
       "      <td>101.6</td>\n",
       "    </tr>\n",
       "    <tr>\n",
       "      <th>2</th>\n",
       "      <td>52</td>\n",
       "      <td>13967</td>\n",
       "      <td>Pedagogia</td>\n",
       "      <td>Diurno</td>\n",
       "      <td>3</td>\n",
       "      <td>14</td>\n",
       "      <td>19</td>\n",
       "      <td>143.6</td>\n",
       "      <td>84.3</td>\n",
       "      <td>81.4</td>\n",
       "    </tr>\n",
       "    <tr>\n",
       "      <th>3</th>\n",
       "      <td>205</td>\n",
       "      <td>99308</td>\n",
       "      <td>Odontologia - Sobral</td>\n",
       "      <td>Diurno</td>\n",
       "      <td>4</td>\n",
       "      <td>63</td>\n",
       "      <td>67</td>\n",
       "      <td>135.0</td>\n",
       "      <td>NaN</td>\n",
       "      <td>7.5</td>\n",
       "    </tr>\n",
       "    <tr>\n",
       "      <th>4</th>\n",
       "      <td>45</td>\n",
       "      <td>14000</td>\n",
       "      <td>Educação Física - Licenciatura</td>\n",
       "      <td>Diurno</td>\n",
       "      <td>5</td>\n",
       "      <td>20</td>\n",
       "      <td>17</td>\n",
       "      <td>124.0</td>\n",
       "      <td>76.0</td>\n",
       "      <td>84.0</td>\n",
       "    </tr>\n",
       "    <tr>\n",
       "      <th>5</th>\n",
       "      <td>NaN</td>\n",
       "      <td>399346</td>\n",
       "      <td>Filosofia - Bacharelado - Cariri</td>\n",
       "      <td>Noturno</td>\n",
       "      <td>6</td>\n",
       "      <td>NaN</td>\n",
       "      <td>NaN</td>\n",
       "      <td>122.2</td>\n",
       "      <td>NaN</td>\n",
       "      <td>NaN</td>\n",
       "    </tr>\n",
       "    <tr>\n",
       "      <th>6</th>\n",
       "      <td>301</td>\n",
       "      <td>54494</td>\n",
       "      <td>Medicina - Barbalha</td>\n",
       "      <td>Diurno</td>\n",
       "      <td>7</td>\n",
       "      <td>6</td>\n",
       "      <td>6</td>\n",
       "      <td>107.5</td>\n",
       "      <td>100.0</td>\n",
       "      <td>105.0</td>\n",
       "    </tr>\n",
       "    <tr>\n",
       "      <th>7</th>\n",
       "      <td>10</td>\n",
       "      <td>13969</td>\n",
       "      <td>Ciências Contábeis</td>\n",
       "      <td>Diurno</td>\n",
       "      <td>8</td>\n",
       "      <td>25</td>\n",
       "      <td>28</td>\n",
       "      <td>106.3</td>\n",
       "      <td>68.8</td>\n",
       "      <td>67.5</td>\n",
       "    </tr>\n",
       "    <tr>\n",
       "      <th>8</th>\n",
       "      <td>46</td>\n",
       "      <td>100256</td>\n",
       "      <td>Educação Física - Bacharelado</td>\n",
       "      <td>Diurno</td>\n",
       "      <td>9</td>\n",
       "      <td>10</td>\n",
       "      <td>9</td>\n",
       "      <td>104.0</td>\n",
       "      <td>92.0</td>\n",
       "      <td>100.0</td>\n",
       "    </tr>\n",
       "    <tr>\n",
       "      <th>9</th>\n",
       "      <td>37A</td>\n",
       "      <td>29489</td>\n",
       "      <td>Letras - Português</td>\n",
       "      <td>Diurno</td>\n",
       "      <td>10</td>\n",
       "      <td>2</td>\n",
       "      <td>13</td>\n",
       "      <td>102.8</td>\n",
       "      <td>113.9</td>\n",
       "      <td>89.0</td>\n",
       "    </tr>\n",
       "    <tr>\n",
       "      <th>10</th>\n",
       "      <td>40</td>\n",
       "      <td>13996</td>\n",
       "      <td>Medicina - Fortaleza</td>\n",
       "      <td>Diurno</td>\n",
       "      <td>11</td>\n",
       "      <td>7</td>\n",
       "      <td>2</td>\n",
       "      <td>102.6</td>\n",
       "      <td>97.4</td>\n",
       "      <td>148.1</td>\n",
       "    </tr>\n",
       "    <tr>\n",
       "      <th>15</th>\n",
       "      <td>201</td>\n",
       "      <td>54490</td>\n",
       "      <td>Medicina - Sobral</td>\n",
       "      <td>Diurno</td>\n",
       "      <td>16</td>\n",
       "      <td>4</td>\n",
       "      <td>5</td>\n",
       "      <td>90.2</td>\n",
       "      <td>105.0</td>\n",
       "      <td>107.5</td>\n",
       "    </tr>\n",
       "    <tr>\n",
       "      <th>19</th>\n",
       "      <td>14</td>\n",
       "      <td>38208</td>\n",
       "      <td>Direito</td>\n",
       "      <td>Noturno</td>\n",
       "      <td>20</td>\n",
       "      <td>1</td>\n",
       "      <td>10</td>\n",
       "      <td>86.3</td>\n",
       "      <td>114.4</td>\n",
       "      <td>98.9</td>\n",
       "    </tr>\n",
       "    <tr>\n",
       "      <th>20</th>\n",
       "      <td>54</td>\n",
       "      <td>13986</td>\n",
       "      <td>Psicologia</td>\n",
       "      <td>Diurno</td>\n",
       "      <td>21</td>\n",
       "      <td>17</td>\n",
       "      <td>1</td>\n",
       "      <td>85.9</td>\n",
       "      <td>82.0</td>\n",
       "      <td>175.0</td>\n",
       "    </tr>\n",
       "    <tr>\n",
       "      <th>36</th>\n",
       "      <td>7</td>\n",
       "      <td>313974</td>\n",
       "      <td>Ciências Biológicas - Bacharelado</td>\n",
       "      <td>Diurno</td>\n",
       "      <td>37</td>\n",
       "      <td>3</td>\n",
       "      <td>NaN</td>\n",
       "      <td>59.6</td>\n",
       "      <td>107.7</td>\n",
       "      <td>NaN</td>\n",
       "    </tr>\n",
       "    <tr>\n",
       "      <th>38</th>\n",
       "      <td>2</td>\n",
       "      <td>38204</td>\n",
       "      <td>Ciências Contábeis</td>\n",
       "      <td>Noturno</td>\n",
       "      <td>39</td>\n",
       "      <td>8</td>\n",
       "      <td>4</td>\n",
       "      <td>56.3</td>\n",
       "      <td>96.3</td>\n",
       "      <td>110.0</td>\n",
       "    </tr>\n",
       "    <tr>\n",
       "      <th>40</th>\n",
       "      <td>13</td>\n",
       "      <td>13999</td>\n",
       "      <td>Ciências Atuariais</td>\n",
       "      <td>Noturno</td>\n",
       "      <td>41</td>\n",
       "      <td>28</td>\n",
       "      <td>7</td>\n",
       "      <td>56.0</td>\n",
       "      <td>68.0</td>\n",
       "      <td>104.0</td>\n",
       "    </tr>\n",
       "    <tr>\n",
       "      <th>46</th>\n",
       "      <td>81</td>\n",
       "      <td>14001</td>\n",
       "      <td>Design de Moda</td>\n",
       "      <td>Diurno</td>\n",
       "      <td>47</td>\n",
       "      <td>4</td>\n",
       "      <td>3</td>\n",
       "      <td>54.0</td>\n",
       "      <td>105.0</td>\n",
       "      <td>120.0</td>\n",
       "    </tr>\n",
       "    <tr>\n",
       "      <th>50</th>\n",
       "      <td>49</td>\n",
       "      <td>99567</td>\n",
       "      <td>Química - Bacharelado</td>\n",
       "      <td>Diurno</td>\n",
       "      <td>51</td>\n",
       "      <td>5</td>\n",
       "      <td>21</td>\n",
       "      <td>52.0</td>\n",
       "      <td>104.0</td>\n",
       "      <td>80.4</td>\n",
       "    </tr>\n",
       "  </tbody>\n",
       "</table>\n",
       "</div>"
      ],
      "text/plain": [
       "   Código UFC Código INEP                              Curso  Período  \\\n",
       "0          57       37274           Filosofia - Licenciatura  Noturno   \n",
       "1          35       13976           Geografia - Licenciatura   Diurno   \n",
       "2          52       13967                          Pedagogia   Diurno   \n",
       "3         205       99308               Odontologia - Sobral   Diurno   \n",
       "4          45       14000     Educação Física - Licenciatura   Diurno   \n",
       "5         NaN      399346   Filosofia - Bacharelado - Cariri  Noturno   \n",
       "6         301       54494                Medicina - Barbalha   Diurno   \n",
       "7          10       13969                 Ciências Contábeis   Diurno   \n",
       "8          46      100256      Educação Física - Bacharelado   Diurno   \n",
       "9         37A       29489                 Letras - Português   Diurno   \n",
       "10         40       13996               Medicina - Fortaleza   Diurno   \n",
       "15        201       54490                  Medicina - Sobral   Diurno   \n",
       "19         14       38208                            Direito  Noturno   \n",
       "20         54       13986                         Psicologia   Diurno   \n",
       "36          7      313974  Ciências Biológicas - Bacharelado   Diurno   \n",
       "38          2       38204                 Ciências Contábeis  Noturno   \n",
       "40         13       13999                 Ciências Atuariais  Noturno   \n",
       "46         81       14001                     Design de Moda   Diurno   \n",
       "50         49       99567              Química - Bacharelado   Diurno   \n",
       "\n",
       "    Ranking 2013  Ranking 2012  Ranking 2011  TS 2013  TS 2012  TS 2011  \n",
       "0              1            45            57    223.1     43.8     34.6  \n",
       "1              2             6             8    219.0    100.0    101.6  \n",
       "2              3            14            19    143.6     84.3     81.4  \n",
       "3              4            63            67    135.0      NaN      7.5  \n",
       "4              5            20            17    124.0     76.0     84.0  \n",
       "5              6           NaN           NaN    122.2      NaN      NaN  \n",
       "6              7             6             6    107.5    100.0    105.0  \n",
       "7              8            25            28    106.3     68.8     67.5  \n",
       "8              9            10             9    104.0     92.0    100.0  \n",
       "9             10             2            13    102.8    113.9     89.0  \n",
       "10            11             7             2    102.6     97.4    148.1  \n",
       "15            16             4             5     90.2    105.0    107.5  \n",
       "19            20             1            10     86.3    114.4     98.9  \n",
       "20            21            17             1     85.9     82.0    175.0  \n",
       "36            37             3           NaN     59.6    107.7      NaN  \n",
       "38            39             8             4     56.3     96.3    110.0  \n",
       "40            41            28             7     56.0     68.0    104.0  \n",
       "46            47             4             3     54.0    105.0    120.0  \n",
       "50            51             5            21     52.0    104.0     80.4  "
      ]
     },
     "execution_count": 11,
     "metadata": {},
     "output_type": "execute_result"
    }
   ],
   "source": [
    "df[(df[['TS 2011', 'TS 2012', 'TS 2013']] > 100.).any(axis=1)]"
   ]
  },
  {
   "cell_type": "markdown",
   "metadata": {},
   "source": [
    "# Essas taxas de sucesso acima de 100% merecem ser analisadas\n",
    "Principalmente com vistas à definição do indicador, observando a forma de cálculo de ingressantes, igual à quantidade de ingressantes que, de acordo com a duração do curso, deveriam estar se formando no ano em questão"
   ]
  },
  {
   "cell_type": "markdown",
   "metadata": {},
   "source": [
    "# <span style=\"color:red\">TODO</span>\n",
    "Entrar em contato com a UFC solicitando a metodologia utilizada no cálculo do indicador"
   ]
  },
  {
   "cell_type": "markdown",
   "metadata": {},
   "source": [
    "### Pedido de informação realizado no e-sic"
   ]
  },
  {
   "cell_type": "markdown",
   "metadata": {},
   "source": [
    "**Protocolo**: 23480.011861/2015-58\n",
    "\n",
    "**Conteúdo**: \n",
    "No anuário estatístico de 2014, ano base 2013, da UFC, páginas 63 e 64, são reportados valores para o indicador \"Taxa de sucesso da graduação por curso\". \n",
    "Considerando que tal indicador foi calculado de acordo com a definição constante no documento \"ORIENTAÇÕES PARA O CÁLCULO DOS INDICADORES DE GESTÃO\" (DECISÃO Nº 408/2002-PLENÁRIO e ACÓRDÃOS N° 1043/2006 e N°  2167/2006 – PLENÁRIO TRIBUNAL DE CONTAS DA UNIÃO), solicito os valores das variáveis utilizadas para o cálculo, a saber, para cada ano (2011, 2012, 2013) e cursos* reportados:\n",
    "\n",
    "1) Nº de diplomados\n",
    "\n",
    "2) Nº total de ingressantes\n",
    "\n",
    "\\* lista dos cursos constantes da tabela no anexo lista_cursos.csv\n",
    "\n",
    "obs: *lista_cursos.csv é um df.Curso.to_csv('lista_cursos.csv', encoding='utf-8')*"
   ]
  },
  {
   "cell_type": "markdown",
   "metadata": {},
   "source": [
    "# Gerando .tex com tabela com colunas [Curso, Período e TS 2013]"
   ]
  },
  {
   "cell_type": "code",
   "execution_count": 12,
   "metadata": {
    "collapsed": true
   },
   "outputs": [],
   "source": [
    "colunas_porcentagem = ['TS 2013', 'TS 2012', 'TS 2011']"
   ]
  },
  {
   "cell_type": "code",
   "execution_count": 13,
   "metadata": {
    "collapsed": false
   },
   "outputs": [],
   "source": [
    "def to_pct(x):\n",
    "    \n",
    "    if np.isnan(x):\n",
    "        \n",
    "        return 'missing'\n",
    "        \n",
    "    return '{}%'.format(x)\n",
    "\n",
    "df[colunas_porcentagem] = df[colunas_porcentagem].applymap(to_pct)"
   ]
  },
  {
   "cell_type": "code",
   "execution_count": 14,
   "metadata": {
    "collapsed": false
   },
   "outputs": [
    {
     "data": {
      "text/html": [
       "<div>\n",
       "<table border=\"1\" class=\"dataframe\">\n",
       "  <thead>\n",
       "    <tr style=\"text-align: right;\">\n",
       "      <th></th>\n",
       "      <th>Código UFC</th>\n",
       "      <th>Código INEP</th>\n",
       "      <th>Curso</th>\n",
       "      <th>Período</th>\n",
       "      <th>Ranking 2013</th>\n",
       "      <th>Ranking 2012</th>\n",
       "      <th>Ranking 2011</th>\n",
       "      <th>TS 2013</th>\n",
       "      <th>TS 2012</th>\n",
       "      <th>TS 2011</th>\n",
       "    </tr>\n",
       "  </thead>\n",
       "  <tbody>\n",
       "    <tr>\n",
       "      <th>0</th>\n",
       "      <td>57</td>\n",
       "      <td>37274</td>\n",
       "      <td>Filosofia - Licenciatura</td>\n",
       "      <td>Noturno</td>\n",
       "      <td>1</td>\n",
       "      <td>45</td>\n",
       "      <td>57</td>\n",
       "      <td>223.1%</td>\n",
       "      <td>43.8%</td>\n",
       "      <td>34.6%</td>\n",
       "    </tr>\n",
       "    <tr>\n",
       "      <th>1</th>\n",
       "      <td>35</td>\n",
       "      <td>13976</td>\n",
       "      <td>Geografia - Licenciatura</td>\n",
       "      <td>Diurno</td>\n",
       "      <td>2</td>\n",
       "      <td>6</td>\n",
       "      <td>8</td>\n",
       "      <td>219.0%</td>\n",
       "      <td>100.0%</td>\n",
       "      <td>101.6%</td>\n",
       "    </tr>\n",
       "    <tr>\n",
       "      <th>2</th>\n",
       "      <td>52</td>\n",
       "      <td>13967</td>\n",
       "      <td>Pedagogia</td>\n",
       "      <td>Diurno</td>\n",
       "      <td>3</td>\n",
       "      <td>14</td>\n",
       "      <td>19</td>\n",
       "      <td>143.6%</td>\n",
       "      <td>84.3%</td>\n",
       "      <td>81.4%</td>\n",
       "    </tr>\n",
       "    <tr>\n",
       "      <th>3</th>\n",
       "      <td>205</td>\n",
       "      <td>99308</td>\n",
       "      <td>Odontologia - Sobral</td>\n",
       "      <td>Diurno</td>\n",
       "      <td>4</td>\n",
       "      <td>63</td>\n",
       "      <td>67</td>\n",
       "      <td>135.0%</td>\n",
       "      <td>missing</td>\n",
       "      <td>7.5%</td>\n",
       "    </tr>\n",
       "    <tr>\n",
       "      <th>4</th>\n",
       "      <td>45</td>\n",
       "      <td>14000</td>\n",
       "      <td>Educação Física - Licenciatura</td>\n",
       "      <td>Diurno</td>\n",
       "      <td>5</td>\n",
       "      <td>20</td>\n",
       "      <td>17</td>\n",
       "      <td>124.0%</td>\n",
       "      <td>76.0%</td>\n",
       "      <td>84.0%</td>\n",
       "    </tr>\n",
       "    <tr>\n",
       "      <th>5</th>\n",
       "      <td>NaN</td>\n",
       "      <td>399346</td>\n",
       "      <td>Filosofia - Bacharelado - Cariri</td>\n",
       "      <td>Noturno</td>\n",
       "      <td>6</td>\n",
       "      <td>NaN</td>\n",
       "      <td>NaN</td>\n",
       "      <td>122.2%</td>\n",
       "      <td>missing</td>\n",
       "      <td>missing</td>\n",
       "    </tr>\n",
       "    <tr>\n",
       "      <th>6</th>\n",
       "      <td>301</td>\n",
       "      <td>54494</td>\n",
       "      <td>Medicina - Barbalha</td>\n",
       "      <td>Diurno</td>\n",
       "      <td>7</td>\n",
       "      <td>6</td>\n",
       "      <td>6</td>\n",
       "      <td>107.5%</td>\n",
       "      <td>100.0%</td>\n",
       "      <td>105.0%</td>\n",
       "    </tr>\n",
       "    <tr>\n",
       "      <th>7</th>\n",
       "      <td>10</td>\n",
       "      <td>13969</td>\n",
       "      <td>Ciências Contábeis</td>\n",
       "      <td>Diurno</td>\n",
       "      <td>8</td>\n",
       "      <td>25</td>\n",
       "      <td>28</td>\n",
       "      <td>106.3%</td>\n",
       "      <td>68.8%</td>\n",
       "      <td>67.5%</td>\n",
       "    </tr>\n",
       "    <tr>\n",
       "      <th>8</th>\n",
       "      <td>46</td>\n",
       "      <td>100256</td>\n",
       "      <td>Educação Física - Bacharelado</td>\n",
       "      <td>Diurno</td>\n",
       "      <td>9</td>\n",
       "      <td>10</td>\n",
       "      <td>9</td>\n",
       "      <td>104.0%</td>\n",
       "      <td>92.0%</td>\n",
       "      <td>100.0%</td>\n",
       "    </tr>\n",
       "    <tr>\n",
       "      <th>9</th>\n",
       "      <td>37A</td>\n",
       "      <td>29489</td>\n",
       "      <td>Letras - Português</td>\n",
       "      <td>Diurno</td>\n",
       "      <td>10</td>\n",
       "      <td>2</td>\n",
       "      <td>13</td>\n",
       "      <td>102.8%</td>\n",
       "      <td>113.9%</td>\n",
       "      <td>89.0%</td>\n",
       "    </tr>\n",
       "  </tbody>\n",
       "</table>\n",
       "</div>"
      ],
      "text/plain": [
       "  Código UFC Código INEP                             Curso  Período  \\\n",
       "0         57       37274          Filosofia - Licenciatura  Noturno   \n",
       "1         35       13976          Geografia - Licenciatura   Diurno   \n",
       "2         52       13967                         Pedagogia   Diurno   \n",
       "3        205       99308              Odontologia - Sobral   Diurno   \n",
       "4         45       14000    Educação Física - Licenciatura   Diurno   \n",
       "5        NaN      399346  Filosofia - Bacharelado - Cariri  Noturno   \n",
       "6        301       54494               Medicina - Barbalha   Diurno   \n",
       "7         10       13969                Ciências Contábeis   Diurno   \n",
       "8         46      100256     Educação Física - Bacharelado   Diurno   \n",
       "9        37A       29489                Letras - Português   Diurno   \n",
       "\n",
       "   Ranking 2013  Ranking 2012  Ranking 2011 TS 2013  TS 2012  TS 2011  \n",
       "0             1            45            57  223.1%    43.8%    34.6%  \n",
       "1             2             6             8  219.0%   100.0%   101.6%  \n",
       "2             3            14            19  143.6%    84.3%    81.4%  \n",
       "3             4            63            67  135.0%  missing     7.5%  \n",
       "4             5            20            17  124.0%    76.0%    84.0%  \n",
       "5             6           NaN           NaN  122.2%  missing  missing  \n",
       "6             7             6             6  107.5%   100.0%   105.0%  \n",
       "7             8            25            28  106.3%    68.8%    67.5%  \n",
       "8             9            10             9  104.0%    92.0%   100.0%  \n",
       "9            10             2            13  102.8%   113.9%    89.0%  "
      ]
     },
     "execution_count": 14,
     "metadata": {},
     "output_type": "execute_result"
    }
   ],
   "source": [
    "df.head(10)"
   ]
  },
  {
   "cell_type": "code",
   "execution_count": 15,
   "metadata": {
    "collapsed": false
   },
   "outputs": [
    {
     "data": {
      "text/html": [
       "<div>\n",
       "<table border=\"1\" class=\"dataframe\">\n",
       "  <thead>\n",
       "    <tr style=\"text-align: right;\">\n",
       "      <th></th>\n",
       "      <th>Código UFC</th>\n",
       "      <th>Código INEP</th>\n",
       "      <th>Curso</th>\n",
       "      <th>Período</th>\n",
       "      <th>Ranking 2013</th>\n",
       "      <th>Ranking 2012</th>\n",
       "      <th>Ranking 2011</th>\n",
       "      <th>TS 2013</th>\n",
       "      <th>TS 2012</th>\n",
       "      <th>TS 2011</th>\n",
       "    </tr>\n",
       "  </thead>\n",
       "  <tbody>\n",
       "    <tr>\n",
       "      <th>0</th>\n",
       "      <td>57</td>\n",
       "      <td>37274</td>\n",
       "      <td>Filosofia - Licenciatura</td>\n",
       "      <td>Noturno</td>\n",
       "      <td>1</td>\n",
       "      <td>45</td>\n",
       "      <td>57</td>\n",
       "      <td>223.1%</td>\n",
       "      <td>43.8%</td>\n",
       "      <td>34.6%</td>\n",
       "    </tr>\n",
       "    <tr>\n",
       "      <th>1</th>\n",
       "      <td>35</td>\n",
       "      <td>13976</td>\n",
       "      <td>Geografia - Licenciatura</td>\n",
       "      <td>Diurno</td>\n",
       "      <td>2</td>\n",
       "      <td>6</td>\n",
       "      <td>8</td>\n",
       "      <td>219.0%</td>\n",
       "      <td>100.0%</td>\n",
       "      <td>101.6%</td>\n",
       "    </tr>\n",
       "    <tr>\n",
       "      <th>2</th>\n",
       "      <td>52</td>\n",
       "      <td>13967</td>\n",
       "      <td>Pedagogia</td>\n",
       "      <td>Diurno</td>\n",
       "      <td>3</td>\n",
       "      <td>14</td>\n",
       "      <td>19</td>\n",
       "      <td>143.6%</td>\n",
       "      <td>84.3%</td>\n",
       "      <td>81.4%</td>\n",
       "    </tr>\n",
       "    <tr>\n",
       "      <th>3</th>\n",
       "      <td>205</td>\n",
       "      <td>99308</td>\n",
       "      <td>Odontologia - Sobral</td>\n",
       "      <td>Diurno</td>\n",
       "      <td>4</td>\n",
       "      <td>63</td>\n",
       "      <td>67</td>\n",
       "      <td>135.0%</td>\n",
       "      <td>missing</td>\n",
       "      <td>7.5%</td>\n",
       "    </tr>\n",
       "    <tr>\n",
       "      <th>4</th>\n",
       "      <td>45</td>\n",
       "      <td>14000</td>\n",
       "      <td>Educação Física - Licenciatura</td>\n",
       "      <td>Diurno</td>\n",
       "      <td>5</td>\n",
       "      <td>20</td>\n",
       "      <td>17</td>\n",
       "      <td>124.0%</td>\n",
       "      <td>76.0%</td>\n",
       "      <td>84.0%</td>\n",
       "    </tr>\n",
       "  </tbody>\n",
       "</table>\n",
       "</div>"
      ],
      "text/plain": [
       "  Código UFC Código INEP                           Curso  Período  \\\n",
       "0         57       37274        Filosofia - Licenciatura  Noturno   \n",
       "1         35       13976        Geografia - Licenciatura   Diurno   \n",
       "2         52       13967                       Pedagogia   Diurno   \n",
       "3        205       99308            Odontologia - Sobral   Diurno   \n",
       "4         45       14000  Educação Física - Licenciatura   Diurno   \n",
       "\n",
       "   Ranking 2013  Ranking 2012  Ranking 2011 TS 2013  TS 2012 TS 2011  \n",
       "0             1            45            57  223.1%    43.8%   34.6%  \n",
       "1             2             6             8  219.0%   100.0%  101.6%  \n",
       "2             3            14            19  143.6%    84.3%   81.4%  \n",
       "3             4            63            67  135.0%  missing    7.5%  \n",
       "4             5            20            17  124.0%    76.0%   84.0%  "
      ]
     },
     "execution_count": 15,
     "metadata": {},
     "output_type": "execute_result"
    }
   ],
   "source": [
    "df.head()"
   ]
  },
  {
   "cell_type": "code",
   "execution_count": 16,
   "metadata": {
    "collapsed": false
   },
   "outputs": [],
   "source": [
    "df = df.sort('Ranking 2013')"
   ]
  },
  {
   "cell_type": "code",
   "execution_count": 19,
   "metadata": {
    "collapsed": false
   },
   "outputs": [],
   "source": [
    "with codecs.open('ts_2013_completo.tex', 'w', encoding='utf-8') as f:\n",
    "    f.write(df[['Curso', u'Período', 'TS 2013']].iloc[::-1].to_latex())"
   ]
  },
  {
   "cell_type": "markdown",
   "metadata": {},
   "source": [
    "# Taxa de sucesso consolidada por ano"
   ]
  },
  {
   "cell_type": "markdown",
   "metadata": {},
   "source": [
    "# Dataset"
   ]
  },
  {
   "cell_type": "code",
   "execution_count": 1,
   "metadata": {
    "collapsed": true
   },
   "outputs": [],
   "source": [
    "dataset_path = '../Dados/taxa-de-sucesso-ufc.csv'"
   ]
  },
  {
   "cell_type": "markdown",
   "metadata": {},
   "source": [
    "## Dataset.readme"
   ]
  },
  {
   "cell_type": "markdown",
   "metadata": {},
   "source": [
    "<a href=\"../Dados/taxa-de-sucesso-ufc.csv.readme\">README</a>"
   ]
  },
  {
   "cell_type": "markdown",
   "metadata": {},
   "source": [
    "## Analisando o dataset"
   ]
  },
  {
   "cell_type": "code",
   "execution_count": 20,
   "metadata": {
    "collapsed": false
   },
   "outputs": [],
   "source": [
    "df = pd.read_csv('../Dados/taxa-de-sucesso-ufc.csv', dtype={'Ano': np.str})"
   ]
  },
  {
   "cell_type": "code",
   "execution_count": 21,
   "metadata": {
    "collapsed": false
   },
   "outputs": [
    {
     "data": {
      "text/html": [
       "<div>\n",
       "<table border=\"1\" class=\"dataframe\">\n",
       "  <thead>\n",
       "    <tr style=\"text-align: right;\">\n",
       "      <th></th>\n",
       "      <th>Taxa de sucesso</th>\n",
       "    </tr>\n",
       "    <tr>\n",
       "      <th>Ano</th>\n",
       "      <th></th>\n",
       "    </tr>\n",
       "  </thead>\n",
       "  <tbody>\n",
       "    <tr>\n",
       "      <th>2008</th>\n",
       "      <td>70.00</td>\n",
       "    </tr>\n",
       "    <tr>\n",
       "      <th>2009</th>\n",
       "      <td>68.86</td>\n",
       "    </tr>\n",
       "    <tr>\n",
       "      <th>2010</th>\n",
       "      <td>68.45</td>\n",
       "    </tr>\n",
       "    <tr>\n",
       "      <th>2011</th>\n",
       "      <td>69.06</td>\n",
       "    </tr>\n",
       "    <tr>\n",
       "      <th>2012</th>\n",
       "      <td>66.63</td>\n",
       "    </tr>\n",
       "    <tr>\n",
       "      <th>2013</th>\n",
       "      <td>56.51</td>\n",
       "    </tr>\n",
       "  </tbody>\n",
       "</table>\n",
       "</div>"
      ],
      "text/plain": [
       "       Taxa de sucesso\n",
       "Ano                   \n",
       "2008             70.00\n",
       "2009             68.86\n",
       "2010             68.45\n",
       "2011             69.06\n",
       "2012             66.63\n",
       "2013             56.51"
      ]
     },
     "execution_count": 21,
     "metadata": {},
     "output_type": "execute_result"
    }
   ],
   "source": [
    "df = df.set_index('Ano')\n",
    "df"
   ]
  },
  {
   "cell_type": "markdown",
   "metadata": {},
   "source": [
    "# Plot para a dissertação"
   ]
  },
  {
   "cell_type": "code",
   "execution_count": 23,
   "metadata": {
    "collapsed": false
   },
   "outputs": [
    {
     "data": {
      "image/png": "[encoded data removed]",
      "text/plain": [
       "<matplotlib.figure.Figure at 0x3a65978>"
      ]
     },
     "metadata": {},
     "output_type": "display_data"
    }
   ],
   "source": [
    "ax = df.plot(kind='bar', ylim=[0.0, 100.0], rot=0)\n",
    "ax.get_figure().savefig(u'../Dissertação/img/taxa-de-sucesso-ufc.png')"
   ]
  }
 ],
 "metadata": {
  "kernelspec": {
   "display_name": "Python 2",
   "language": "python",
   "name": "python2"
  },
  "language_info": {
   "codemirror_mode": {
    "name": "ipython",
    "version": 2
   },
   "file_extension": ".py",
   "mimetype": "text/x-python",
   "name": "python",
   "nbconvert_exporter": "python",
   "pygments_lexer": "ipython2",
   "version": "2.7.10"
  }
 },
 "nbformat": 4,
 "nbformat_minor": 0
}
