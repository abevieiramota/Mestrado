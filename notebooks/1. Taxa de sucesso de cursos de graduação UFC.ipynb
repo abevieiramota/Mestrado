{
 "cells": [
  {
   "cell_type": "code",
   "execution_count": 24,
   "metadata": {
    "collapsed": false
   },
   "outputs": [],
   "source": [
    "import pandas as pd\n",
    "import numpy as np\n",
    "# necessário pois o default está ascii, dando problema de encoding com arquivos utf-8\n",
    "import sys\n",
    "reload(sys)\n",
    "sys.setdefaultencoding('utf-8')"
   ]
  },
  {
   "cell_type": "code",
   "execution_count": 25,
   "metadata": {
    "collapsed": false
   },
   "outputs": [],
   "source": [
    "ts = pd.read_csv('../Dados/taxa-de-sucesso-ufc.csv', encoding='utf-8', decimal=',', na_values='-')"
   ]
  },
  {
   "cell_type": "code",
   "execution_count": 26,
   "metadata": {
    "collapsed": false
   },
   "outputs": [
    {
     "data": {
      "text/html": [
       "<div style=\"max-height:1000px;max-width:1500px;overflow:auto;\">\n",
       "<table border=\"1\" class=\"dataframe\">\n",
       "  <thead>\n",
       "    <tr style=\"text-align: right;\">\n",
       "      <th></th>\n",
       "      <th>Código UFC</th>\n",
       "      <th>Código INEP</th>\n",
       "      <th>Curso</th>\n",
       "      <th>Período</th>\n",
       "      <th>Ranking 2013</th>\n",
       "      <th>Ranking 2012</th>\n",
       "      <th>Ranking 2011</th>\n",
       "      <th>TS 2013</th>\n",
       "      <th>TS 2012</th>\n",
       "      <th>TS 2011</th>\n",
       "    </tr>\n",
       "  </thead>\n",
       "  <tbody>\n",
       "    <tr>\n",
       "      <th>0</th>\n",
       "      <td>  57</td>\n",
       "      <td> 37274</td>\n",
       "      <td>       Filosofia - Licenciatura</td>\n",
       "      <td> Noturno</td>\n",
       "      <td> 1</td>\n",
       "      <td> 45</td>\n",
       "      <td> 57</td>\n",
       "      <td> 223.1</td>\n",
       "      <td>  43.8</td>\n",
       "      <td>  34.6</td>\n",
       "    </tr>\n",
       "    <tr>\n",
       "      <th>1</th>\n",
       "      <td>  35</td>\n",
       "      <td> 13976</td>\n",
       "      <td>       Geografia - Licenciatura</td>\n",
       "      <td>  Diurno</td>\n",
       "      <td> 2</td>\n",
       "      <td>  6</td>\n",
       "      <td>  8</td>\n",
       "      <td> 219.0</td>\n",
       "      <td> 100.0</td>\n",
       "      <td> 101.6</td>\n",
       "    </tr>\n",
       "    <tr>\n",
       "      <th>2</th>\n",
       "      <td>  52</td>\n",
       "      <td> 13967</td>\n",
       "      <td>                      Pedagogia</td>\n",
       "      <td>  Diurno</td>\n",
       "      <td> 3</td>\n",
       "      <td> 14</td>\n",
       "      <td> 19</td>\n",
       "      <td> 143.6</td>\n",
       "      <td>  84.3</td>\n",
       "      <td>  81.4</td>\n",
       "    </tr>\n",
       "    <tr>\n",
       "      <th>3</th>\n",
       "      <td> 205</td>\n",
       "      <td> 99308</td>\n",
       "      <td>           Odontologia - Sobral</td>\n",
       "      <td>  Diurno</td>\n",
       "      <td> 4</td>\n",
       "      <td> 63</td>\n",
       "      <td> 67</td>\n",
       "      <td> 135.0</td>\n",
       "      <td>   NaN</td>\n",
       "      <td>   7.5</td>\n",
       "    </tr>\n",
       "    <tr>\n",
       "      <th>4</th>\n",
       "      <td>  45</td>\n",
       "      <td> 14000</td>\n",
       "      <td> Educação Física - Licenciatura</td>\n",
       "      <td>  Diurno</td>\n",
       "      <td> 5</td>\n",
       "      <td> 20</td>\n",
       "      <td> 17</td>\n",
       "      <td> 124.0</td>\n",
       "      <td>  76.0</td>\n",
       "      <td>  84.0</td>\n",
       "    </tr>\n",
       "  </tbody>\n",
       "</table>\n",
       "</div>"
      ],
      "text/plain": [
       "  Código UFC Código INEP                           Curso  Período  \\\n",
       "0         57       37274        Filosofia - Licenciatura  Noturno   \n",
       "1         35       13976        Geografia - Licenciatura   Diurno   \n",
       "2         52       13967                       Pedagogia   Diurno   \n",
       "3        205       99308            Odontologia - Sobral   Diurno   \n",
       "4         45       14000  Educação Física - Licenciatura   Diurno   \n",
       "\n",
       "   Ranking 2013  Ranking 2012  Ranking 2011  TS 2013  TS 2012  TS 2011  \n",
       "0             1            45            57    223.1     43.8     34.6  \n",
       "1             2             6             8    219.0    100.0    101.6  \n",
       "2             3            14            19    143.6     84.3     81.4  \n",
       "3             4            63            67    135.0      NaN      7.5  \n",
       "4             5            20            17    124.0     76.0     84.0  "
      ]
     },
     "execution_count": 26,
     "metadata": {},
     "output_type": "execute_result"
    }
   ],
   "source": [
    "ts.head()"
   ]
  },
  {
   "cell_type": "code",
   "execution_count": 27,
   "metadata": {
    "collapsed": true
   },
   "outputs": [],
   "source": [
    "def to_porcentagem(s):\n",
    "    \n",
    "    if np.isnan(s):\n",
    "        \n",
    "        return '-'\n",
    "    return '{}%'.format(s)\n",
    "colunas_porcentagem = ['TS 2013', 'TS 2012', 'TS 2011']\n",
    "ts[colunas_porcentagem] = ts[colunas_porcentagem].applymap(to_porcentagem)"
   ]
  },
  {
   "cell_type": "code",
   "execution_count": 28,
   "metadata": {
    "collapsed": false
   },
   "outputs": [
    {
     "data": {
      "text/html": [
       "<div style=\"max-height:1000px;max-width:1500px;overflow:auto;\">\n",
       "<table border=\"1\" class=\"dataframe\">\n",
       "  <thead>\n",
       "    <tr style=\"text-align: right;\">\n",
       "      <th></th>\n",
       "      <th>Código UFC</th>\n",
       "      <th>Código INEP</th>\n",
       "      <th>Curso</th>\n",
       "      <th>Período</th>\n",
       "      <th>Ranking 2013</th>\n",
       "      <th>Ranking 2012</th>\n",
       "      <th>Ranking 2011</th>\n",
       "      <th>TS 2013</th>\n",
       "      <th>TS 2012</th>\n",
       "      <th>TS 2011</th>\n",
       "    </tr>\n",
       "  </thead>\n",
       "  <tbody>\n",
       "    <tr>\n",
       "      <th>0</th>\n",
       "      <td>  57</td>\n",
       "      <td> 37274</td>\n",
       "      <td>       Filosofia - Licenciatura</td>\n",
       "      <td> Noturno</td>\n",
       "      <td> 1</td>\n",
       "      <td> 45</td>\n",
       "      <td> 57</td>\n",
       "      <td> 223.1%</td>\n",
       "      <td>  43.8%</td>\n",
       "      <td>  34.6%</td>\n",
       "    </tr>\n",
       "    <tr>\n",
       "      <th>1</th>\n",
       "      <td>  35</td>\n",
       "      <td> 13976</td>\n",
       "      <td>       Geografia - Licenciatura</td>\n",
       "      <td>  Diurno</td>\n",
       "      <td> 2</td>\n",
       "      <td>  6</td>\n",
       "      <td>  8</td>\n",
       "      <td> 219.0%</td>\n",
       "      <td> 100.0%</td>\n",
       "      <td> 101.6%</td>\n",
       "    </tr>\n",
       "    <tr>\n",
       "      <th>2</th>\n",
       "      <td>  52</td>\n",
       "      <td> 13967</td>\n",
       "      <td>                      Pedagogia</td>\n",
       "      <td>  Diurno</td>\n",
       "      <td> 3</td>\n",
       "      <td> 14</td>\n",
       "      <td> 19</td>\n",
       "      <td> 143.6%</td>\n",
       "      <td>  84.3%</td>\n",
       "      <td>  81.4%</td>\n",
       "    </tr>\n",
       "    <tr>\n",
       "      <th>3</th>\n",
       "      <td> 205</td>\n",
       "      <td> 99308</td>\n",
       "      <td>           Odontologia - Sobral</td>\n",
       "      <td>  Diurno</td>\n",
       "      <td> 4</td>\n",
       "      <td> 63</td>\n",
       "      <td> 67</td>\n",
       "      <td> 135.0%</td>\n",
       "      <td>      -</td>\n",
       "      <td>   7.5%</td>\n",
       "    </tr>\n",
       "    <tr>\n",
       "      <th>4</th>\n",
       "      <td>  45</td>\n",
       "      <td> 14000</td>\n",
       "      <td> Educação Física - Licenciatura</td>\n",
       "      <td>  Diurno</td>\n",
       "      <td> 5</td>\n",
       "      <td> 20</td>\n",
       "      <td> 17</td>\n",
       "      <td> 124.0%</td>\n",
       "      <td>  76.0%</td>\n",
       "      <td>  84.0%</td>\n",
       "    </tr>\n",
       "  </tbody>\n",
       "</table>\n",
       "</div>"
      ],
      "text/plain": [
       "  Código UFC Código INEP                           Curso  Período  \\\n",
       "0         57       37274        Filosofia - Licenciatura  Noturno   \n",
       "1         35       13976        Geografia - Licenciatura   Diurno   \n",
       "2         52       13967                       Pedagogia   Diurno   \n",
       "3        205       99308            Odontologia - Sobral   Diurno   \n",
       "4         45       14000  Educação Física - Licenciatura   Diurno   \n",
       "\n",
       "   Ranking 2013  Ranking 2012  Ranking 2011 TS 2013 TS 2012 TS 2011  \n",
       "0             1            45            57  223.1%   43.8%   34.6%  \n",
       "1             2             6             8  219.0%  100.0%  101.6%  \n",
       "2             3            14            19  143.6%   84.3%   81.4%  \n",
       "3             4            63            67  135.0%       -    7.5%  \n",
       "4             5            20            17  124.0%   76.0%   84.0%  "
      ]
     },
     "execution_count": 28,
     "metadata": {},
     "output_type": "execute_result"
    }
   ],
   "source": [
    "ts.head()"
   ]
  },
  {
   "cell_type": "code",
   "execution_count": 29,
   "metadata": {
    "collapsed": false
   },
   "outputs": [],
   "source": [
    "with open('ts_2013_completo.tex', 'w') as f:\n",
    "    f.write(ts[['Curso', u'Período', 'TS 2013']].iloc[::-1].to_latex())"
   ]
  },
  {
   "cell_type": "code",
   "execution_count": null,
   "metadata": {
    "collapsed": true
   },
   "outputs": [],
   "source": []
  }
 ],
 "metadata": {
  "kernelspec": {
   "display_name": "Python 2",
   "language": "python",
   "name": "python2"
  },
  "language_info": {
   "codemirror_mode": {
    "name": "ipython",
    "version": 2
   },
   "file_extension": ".py",
   "mimetype": "text/x-python",
   "name": "python",
   "nbconvert_exporter": "python",
   "pygments_lexer": "ipython2",
   "version": "2.7.9"
  }
 },
 "nbformat": 4,
 "nbformat_minor": 0
}
