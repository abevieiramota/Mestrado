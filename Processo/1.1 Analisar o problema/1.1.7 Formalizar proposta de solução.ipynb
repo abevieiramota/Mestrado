{
 "cells": [
  {
   "cell_type": "markdown",
   "metadata": {},
   "source": [
    "# Descrição"
   ]
  },
  {
   "cell_type": "markdown",
   "metadata": {},
   "source": [
    "Tom Mitchell defines a useful formalism for describing a machine learning problem:       A computer program is said to learn from experience E with respect to some class of tasks T and performance measure P, if its performance at tasks in T, as measured by P, improves with experience E.\n",
    "\n",
    "Use this formalism to define the T, P, and E for your problem.\n",
    " \n",
    "E:\n",
    "1. feedback\n",
    "  1. direto\n",
    "  2. indireto\n",
    "2. nível de controle\n",
    "  1. selecionada por especialista\n",
    "  2. sugerida por programa e analisada por especialista\n",
    "  3. selecionada e analisada por especialista\n",
    "3. reflete a realidade <- estranho\n",
    "  1. relação da distribuição da experiência com a da realidade\n",
    " \n",
    "Função alvo  \n",
    "Representação da estimativa da função alvo  \n",
    "Algoritmo de aprendizado\n"
   ]
  },
  {
   "cell_type": "code",
   "execution_count": null,
   "metadata": {
    "collapsed": true
   },
   "outputs": [],
   "source": []
  },
  {
   "cell_type": "markdown",
   "metadata": {},
   "source": [
    "1. modelo de predição de evasão-fraca no segundo semestre \n",
    "  1. se terá ao menos uma aprovação no segundo semestre, a partir de informações do primeiro semestre  \n",
    "2. modelo de desvio do padrão de desempenho no ENEM -> desempenho na UFC\n",
    "  1. identificar quem não seguiu o padrão, de forma que a UFC possa contactar e buscar entender o que ocorreu para ele ter melhorado na área, ou se o baixo desempenho no ENEM foi eventual\n"
   ]
  }
 ],
 "metadata": {
  "kernelspec": {
   "display_name": "Python 2",
   "language": "python",
   "name": "python2"
  },
  "language_info": {
   "codemirror_mode": {
    "name": "ipython",
    "version": 2
   },
   "file_extension": ".py",
   "mimetype": "text/x-python",
   "name": "python",
   "nbconvert_exporter": "python",
   "pygments_lexer": "ipython2",
   "version": "2.7.10"
  }
 },
 "nbformat": 4,
 "nbformat_minor": 0
}
